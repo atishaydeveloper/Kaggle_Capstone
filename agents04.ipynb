{
 "cells": [
  {
   "cell_type": "code",
   "execution_count": 21,
   "id": "78304690",
   "metadata": {},
   "outputs": [],
   "source": [
    "from langchain_google_genai import ChatGoogleGenerativeAI\n",
    "from langchain.agents import Agent\n",
    "from langchain.tools import Tool\n",
    "from langchain.agents import AgentExecutor,ZeroShotAgent\n",
    "from langchain_community.utilities import SerpAPIWrapper\n",
    "from langchain.prompts import PromptTemplate\n",
    "from langchain.agents import initialize_agent, AgentType\n",
    "import requests\n",
    "from dotenv import load_dotenv\n",
    "import os"
   ]
  },
  {
   "cell_type": "code",
   "execution_count": 7,
   "id": "1f83a459",
   "metadata": {},
   "outputs": [],
   "source": [
    "load_dotenv()\n",
    "google_api_key = os.getenv(\"GOOGLE_API_KEY\")\n",
    "serp_api_key = os.getenv(\"SERPAPI_API_KEY\")\n"
   ]
  },
  {
   "cell_type": "code",
   "execution_count": 16,
   "id": "df9a3a20",
   "metadata": {},
   "outputs": [],
   "source": [
    "\n",
    "def simple_calculator(x: str) -> str:\n",
    "    \"\"\"A simple calculator that can do basic math operations.\"\"\"\n",
    "    try:\n",
    "        result = eval(x)\n",
    "        return str(result)\n",
    "    except Exception as e:\n",
    "        return str(e)"
   ]
  },
  {
   "cell_type": "code",
   "execution_count": 18,
   "id": "6fd882d9",
   "metadata": {},
   "outputs": [],
   "source": [
    "def search_google(query: str) -> str:\n",
    "    \"\"\"Search Google using SerpAPI.\"\"\"\n",
    "    serp = SerpAPIWrapper()\n",
    "    results = serp.run(query)\n",
    "    return results"
   ]
  },
  {
   "cell_type": "code",
   "execution_count": 19,
   "id": "45271452",
   "metadata": {},
   "outputs": [],
   "source": [
    "calculator = Tool(\n",
    "    name = \"Calculator\",\n",
    "    func=simple_calculator,\n",
    "    description=\"A simple calculator that can do basic math operations. Input should be a string like '2 + 2'.\",\n",
    ")\n",
    "\n",
    "web_search = Tool(\n",
    "    name = \"Web Search\",\n",
    "    func=search_google,\n",
    "    description=\"A tool to search the web using Google. Input should be a string like 'What is the capital of France?'.\",\n",
    ")\n",
    "\n",
    "tools = [calculator, web_search]"
   ]
  },
  {
   "cell_type": "code",
   "execution_count": null,
   "id": "1245568b",
   "metadata": {},
   "outputs": [],
   "source": []
  },
  {
   "cell_type": "code",
   "execution_count": 29,
   "id": "b5c59454",
   "metadata": {},
   "outputs": [],
   "source": [
    "class ResearcherAgent:\n",
    "    def __init__(self):\n",
    "        self.llm = ChatGoogleGenerativeAI(model=\"gemini-2.0-flash\")\n",
    "        self.tools = tools\n",
    "        self.agent = initialize_agent(\n",
    "            tools=self.tools,\n",
    "            llm=self.llm,\n",
    "            agent=AgentType.ZERO_SHOT_REACT_DESCRIPTION,\n",
    "            verbose=False\n",
    "        )\n",
    "\n",
    "    def research_topic(self, topic):\n",
    "        prompt = f\"Provide a detailed analysis of {topic} in a JSON format.\"\n",
    "        response = self.agent.run(prompt)\n",
    "        return response\n"
   ]
  },
  {
   "cell_type": "code",
   "execution_count": 33,
   "id": "8dc495bb",
   "metadata": {},
   "outputs": [],
   "source": [
    "class WriterAgent:\n",
    "    def __init__(self):\n",
    "        self.llm = ChatGoogleGenerativeAI(model=\"gemini-2.0-flash\")\n",
    "        self.tools = tools\n",
    "        self.agent = initialize_agent(\n",
    "            tools=self.tools,\n",
    "            llm=self.llm,\n",
    "            agent=AgentType.ZERO_SHOT_REACT_DESCRIPTION,\n",
    "            verbose=False\n",
    "        )\n",
    "\n",
    "    def write_article(self, research):\n",
    "        prompt = f\"Write a well-structured blog post with clear headings, proper paragraph breaks (one-line space between each paragraph), and bullet points if needed based on teh following reseach: {research}. The content should be easy to read, like a Medium article. Use markdown format with ## for headings and ensure no walls of text.\"\n",
    "        response = self.agent.run(prompt)\n",
    "        return response"
   ]
  },
  {
   "cell_type": "code",
   "execution_count": 34,
   "id": "87c011a5",
   "metadata": {},
   "outputs": [
    {
     "name": "stdout",
     "output_type": "stream",
     "text": [
      "## Market Downturn: A Deep Dive into Recent Losses\n",
      "\n",
      "The stock market is currently experiencing a downturn, driven primarily by tariff concerns and retaliatory actions. Recent performance indicates significant losses across major indices.\n",
      "\n",
      "The Dow Jones Industrial Average is a prime example, with the current price at 38314.86, a decrease from its previous close of 40545.93. This represents a notable negative change.\n",
      "\n",
      "Recent news headlines paint a stark picture:\n",
      "\n",
      "*   Stock market rout deepens as Dow plunges more than 2,200 points and Nasdaq enters bear market.\n",
      "\n",
      "*   Dow drops 2,200 points Friday, S&P 500 loses 10% in 2 days as Trump's tariff rout deepens.\n",
      "\n",
      "*   Stock market shudders for second straight day as China strikes back against Trump tariffs.\n",
      "\n",
      "**Disclaimer:** This is a simplified representation based on recent news and data. Consult with a financial professional for personalized advice.\n"
     ]
    }
   ],
   "source": [
    "def main():\n",
    "    topic = input(\"Enter the topic you want to research: \")\n",
    "    \n",
    "    reseracher = ResearcherAgent()\n",
    "    research_data = reseracher.research_topic(topic)\n",
    "    \n",
    "    writer = WriterAgent()\n",
    "    article = writer.write_article(research_data)\n",
    "    \n",
    "    print(article)\n",
    "    \n",
    "    \n",
    "if __name__ == \"__main__\":\n",
    "    main()\n"
   ]
  },
  {
   "cell_type": "code",
   "execution_count": null,
   "id": "886eb4e0",
   "metadata": {},
   "outputs": [],
   "source": []
  }
 ],
 "metadata": {
  "kernelspec": {
   "display_name": "arogya",
   "language": "python",
   "name": "python3"
  },
  "language_info": {
   "codemirror_mode": {
    "name": "ipython",
    "version": 3
   },
   "file_extension": ".py",
   "mimetype": "text/x-python",
   "name": "python",
   "nbconvert_exporter": "python",
   "pygments_lexer": "ipython3",
   "version": "3.12.6"
  }
 },
 "nbformat": 4,
 "nbformat_minor": 5
}
